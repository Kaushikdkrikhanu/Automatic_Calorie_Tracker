{
 "cells": [
  {
   "cell_type": "code",
   "execution_count": 1,
   "id": "b9e57ebf",
   "metadata": {},
   "outputs": [
    {
     "name": "stderr",
     "output_type": "stream",
     "text": [
      "2023-04-23 18:28:12.389609: I tensorflow/core/util/port.cc:110] oneDNN custom operations are on. You may see slightly different numerical results due to floating-point round-off errors from different computation orders. To turn them off, set the environment variable `TF_ENABLE_ONEDNN_OPTS=0`.\n",
      "2023-04-23 18:28:12.436489: I tensorflow/core/platform/cpu_feature_guard.cc:182] This TensorFlow binary is optimized to use available CPU instructions in performance-critical operations.\n",
      "To enable the following instructions: AVX2 AVX512F AVX512_VNNI FMA, in other operations, rebuild TensorFlow with the appropriate compiler flags.\n",
      "2023-04-23 18:28:13.209322: W tensorflow/compiler/tf2tensorrt/utils/py_utils.cc:38] TF-TRT Warning: Could not find TensorRT\n"
     ]
    }
   ],
   "source": [
    "import tensorflow as tf\n",
    "from tensorflow.keras.applications import ResNet50\n",
    "from tensorflow.keras.models import Model\n",
    "from tensorflow.keras.layers import Dense, GlobalAveragePooling2D\n",
    "from tensorflow.keras.optimizers import Adam\n",
    "from tensorflow.keras.applications.resnet50 import preprocess_input, decode_predictions\n",
    "from tensorflow.keras.preprocessing.image import load_img, img_to_array\n",
    "from tensorflow.keras.applications.resnet50 import preprocess_input\n",
    "\n",
    "import numpy as np\n",
    "from tensorflow.keras.preprocessing.image import ImageDataGenerator"
   ]
  },
  {
   "cell_type": "code",
   "execution_count": 2,
   "id": "707837e6",
   "metadata": {},
   "outputs": [],
   "source": [
    "# Directory paths for training, validation, and test data\n",
    "train_dir = 'train'  # path to the directory containing training images"
   ]
  },
  {
   "cell_type": "code",
   "execution_count": 3,
   "id": "4c992459",
   "metadata": {},
   "outputs": [],
   "source": [
    "datagen = ImageDataGenerator()"
   ]
  },
  {
   "cell_type": "code",
   "execution_count": 4,
   "id": "35b75750",
   "metadata": {},
   "outputs": [
    {
     "name": "stdout",
     "output_type": "stream",
     "text": [
      "Found 22 images belonging to 4 classes.\n"
     ]
    }
   ],
   "source": [
    "train_generator = datagen.flow_from_directory(\n",
    "    train_dir,\n",
    "    target_size=(224, 224),  # resize images to (224, 224) as required by ResNet-50\n",
    "    batch_size=32,\n",
    "\n",
    "    class_mode='categorical'  # set to 'categorical' for multi-class classification\n",
    ")"
   ]
  },
  {
   "cell_type": "code",
   "execution_count": 5,
   "id": "92044509",
   "metadata": {},
   "outputs": [
    {
     "data": {
      "text/plain": [
       "{'falafel': 0, 'pizza': 1, 'shawarma': 2, 'spoon': 3}"
      ]
     },
     "execution_count": 5,
     "metadata": {},
     "output_type": "execute_result"
    }
   ],
   "source": [
    "train_generator.class_indices"
   ]
  },
  {
   "cell_type": "code",
   "execution_count": 6,
   "id": "fd275133",
   "metadata": {},
   "outputs": [],
   "source": [
    "# vals_generator = "
   ]
  },
  {
   "cell_type": "code",
   "execution_count": 7,
   "id": "3a200307",
   "metadata": {},
   "outputs": [
    {
     "name": "stderr",
     "output_type": "stream",
     "text": [
      "2023-04-23 18:28:47.544717: E tensorflow/compiler/xla/stream_executor/cuda/cuda_driver.cc:266] failed call to cuInit: CUDA_ERROR_NO_DEVICE: no CUDA-capable device is detected\n"
     ]
    }
   ],
   "source": [
    "# Load the pretrained ResNet-50 model without the top (fully connected) layer\n",
    "base_model = ResNet50(weights='imagenet', include_top=False, input_shape=(224, 224, 3))\n",
    "\n",
    "# Freeze the base model to prevent its weights from being updated during training\n",
    "base_model.trainable = False\n"
   ]
  },
  {
   "cell_type": "code",
   "execution_count": 8,
   "id": "155be151",
   "metadata": {},
   "outputs": [],
   "source": [
    "# class_labels = decode_predictions(np.eye(1, 1000, 1), top=1000)[0]\n",
    "# class_labels = [label[1] for label in class_labels]\n",
    "# print(\"ImageNet classes: \", class_labels)"
   ]
  },
  {
   "cell_type": "code",
   "execution_count": 10,
   "id": "e7125c54",
   "metadata": {},
   "outputs": [],
   "source": [
    "# Number of classes in your dataset, including pizza, shawarma, and ImageNet classes\n",
    "num_classes = 4\n",
    "# Add custom output layer\n",
    "x = base_model.output\n",
    "x = GlobalAveragePooling2D()(x)\n",
    "x = Dense(256, activation='relu')(x)\n",
    "predictions = Dense(num_classes, activation='softmax')(x)"
   ]
  },
  {
   "cell_type": "code",
   "execution_count": 11,
   "id": "5c5ac75e",
   "metadata": {},
   "outputs": [],
   "source": [
    "# Create final model\n",
    "model = Model(inputs=base_model.input, outputs=predictions)\n",
    "\n",
    "# Freeze pre-trained layers\n",
    "for layer in base_model.layers:\n",
    "    layer.trainable = False"
   ]
  },
  {
   "cell_type": "code",
   "execution_count": 12,
   "id": "4113c50a",
   "metadata": {},
   "outputs": [],
   "source": [
    "model.compile(optimizer=Adam(learning_rate=0.001), loss='categorical_crossentropy', metrics=['accuracy'])"
   ]
  },
  {
   "cell_type": "code",
   "execution_count": 13,
   "id": "5f7a411b",
   "metadata": {},
   "outputs": [],
   "source": [
    "# model.summary()"
   ]
  },
  {
   "cell_type": "code",
   "execution_count": 14,
   "id": "e093c282",
   "metadata": {},
   "outputs": [
    {
     "name": "stdout",
     "output_type": "stream",
     "text": [
      "Epoch 1/10\n"
     ]
    },
    {
     "name": "stderr",
     "output_type": "stream",
     "text": [
      "2023-04-23 18:28:56.480944: I tensorflow/core/common_runtime/executor.cc:1197] [/device:CPU:0] (DEBUG INFO) Executor start aborting (this does not indicate an error and you can ignore this message): INVALID_ARGUMENT: You must feed a value for placeholder tensor 'Placeholder/_0' with dtype int32\n",
      "\t [[{{node Placeholder/_0}}]]\n"
     ]
    },
    {
     "name": "stdout",
     "output_type": "stream",
     "text": [
      "1/1 [==============================] - 4s 4s/step - loss: 1.9763 - accuracy: 0.1364\n",
      "Epoch 2/10\n",
      "1/1 [==============================] - 1s 887ms/step - loss: 0.5436 - accuracy: 0.7727\n",
      "Epoch 3/10\n",
      "1/1 [==============================] - 1s 873ms/step - loss: 0.0958 - accuracy: 1.0000\n",
      "Epoch 4/10\n",
      "1/1 [==============================] - 1s 883ms/step - loss: 0.0234 - accuracy: 1.0000\n",
      "Epoch 5/10\n",
      "1/1 [==============================] - 1s 882ms/step - loss: 0.0083 - accuracy: 1.0000\n",
      "Epoch 6/10\n",
      "1/1 [==============================] - 1s 894ms/step - loss: 0.0037 - accuracy: 1.0000\n",
      "Epoch 7/10\n",
      "1/1 [==============================] - 1s 894ms/step - loss: 0.0019 - accuracy: 1.0000\n",
      "Epoch 8/10\n",
      "1/1 [==============================] - 1s 880ms/step - loss: 0.0010 - accuracy: 1.0000\n",
      "Epoch 9/10\n",
      "1/1 [==============================] - 1s 876ms/step - loss: 6.3250e-04 - accuracy: 1.0000\n",
      "Epoch 10/10\n",
      "1/1 [==============================] - 1s 910ms/step - loss: 4.1228e-04 - accuracy: 1.0000\n"
     ]
    },
    {
     "data": {
      "text/plain": [
       "<keras.callbacks.History at 0x7f16981bb5e0>"
      ]
     },
     "execution_count": 14,
     "metadata": {},
     "output_type": "execute_result"
    }
   ],
   "source": [
    "model.fit(\n",
    "train_generator,\n",
    "steps_per_epoch=len(train_generator),\n",
    "epochs=10,\n",
    "validation_data=None) #"
   ]
  },
  {
   "cell_type": "code",
   "execution_count": 17,
   "id": "c79e8787",
   "metadata": {},
   "outputs": [
    {
     "name": "stdout",
     "output_type": "stream",
     "text": [
      "1/1 [==============================] - 0s 106ms/step\n",
      "pizza\n",
      "Predicted Class:  Probability: 1.00\n"
     ]
    }
   ],
   "source": [
    "\n",
    "\n",
    "# Load a test image\n",
    "# image_path = 'train/shawarma/shawarma_7.png'\n",
    "# image_path = 'train/pizza/pizza_5.png'\n",
    "# image_path = 'train/falafel/falafel_6.png'\n",
    "# image_path = 'train/spoon/spoon_3.png'\n",
    "\n",
    "\n",
    "image = load_img(image_path, target_size=(224, 224))\n",
    "\n",
    "# Convert the image to a numpy array\n",
    "image_array = img_to_array(image)\n",
    "\n",
    "# Preprocess the image\n",
    "image_array = preprocess_input(image_array)\n",
    "image_array = image_array.reshape((1,) + image_array.shape)\n",
    "\n",
    "# Make prediction\n",
    "prediction = model.predict(image_array)\n",
    "class_names = ['falafel','pizza','shawarma','spoon']\n",
    "# Get the class label with highest probability\n",
    "class_index = prediction.argmax()\n",
    "class_label = class_names[class_index]  # assuming class_names is a list of class labels\n",
    "\n",
    "# Get the probability of the predicted class\n",
    "probability = prediction[0, class_index]\n",
    "\n",
    "print(class_label)\n",
    "# Print the predicted class label and probability\n",
    "print(f'Predicted Class:  Probability: {probability:.2f}')\n",
    "\n"
   ]
  },
  {
   "cell_type": "code",
   "execution_count": 19,
   "id": "51e4d3db",
   "metadata": {},
   "outputs": [],
   "source": [
    "model.save('resnet50_model.h5')"
   ]
  },
  {
   "cell_type": "code",
   "execution_count": null,
   "id": "f95def3a",
   "metadata": {},
   "outputs": [],
   "source": []
  }
 ],
 "metadata": {
  "kernelspec": {
   "display_name": "Python 3 (ipykernel)",
   "language": "python",
   "name": "python3"
  },
  "language_info": {
   "codemirror_mode": {
    "name": "ipython",
    "version": 3
   },
   "file_extension": ".py",
   "mimetype": "text/x-python",
   "name": "python",
   "nbconvert_exporter": "python",
   "pygments_lexer": "ipython3",
   "version": "3.9.13"
  }
 },
 "nbformat": 4,
 "nbformat_minor": 5
}
