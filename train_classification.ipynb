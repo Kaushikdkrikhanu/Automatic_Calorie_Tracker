{
 "cells": [
  {
   "cell_type": "code",
   "execution_count": 1,
   "id": "b9e57ebf",
   "metadata": {},
   "outputs": [
    {
     "name": "stderr",
     "output_type": "stream",
     "text": [
      "2023-04-22 15:43:45.556756: I tensorflow/core/util/port.cc:110] oneDNN custom operations are on. You may see slightly different numerical results due to floating-point round-off errors from different computation orders. To turn them off, set the environment variable `TF_ENABLE_ONEDNN_OPTS=0`.\n",
      "2023-04-22 15:43:45.638468: I tensorflow/core/platform/cpu_feature_guard.cc:182] This TensorFlow binary is optimized to use available CPU instructions in performance-critical operations.\n",
      "To enable the following instructions: AVX2 AVX512F AVX512_VNNI FMA, in other operations, rebuild TensorFlow with the appropriate compiler flags.\n",
      "2023-04-22 15:43:46.550112: W tensorflow/compiler/tf2tensorrt/utils/py_utils.cc:38] TF-TRT Warning: Could not find TensorRT\n"
     ]
    }
   ],
   "source": [
    "from tensorflow.keras.preprocessing.image import ImageDataGenerator"
   ]
  },
  {
   "cell_type": "code",
   "execution_count": 11,
   "id": "707837e6",
   "metadata": {},
   "outputs": [],
   "source": [
    "# Directory paths for training, validation, and test data\n",
    "train_dir = 'train'  # path to the directory containing training images"
   ]
  },
  {
   "cell_type": "code",
   "execution_count": 12,
   "id": "4c992459",
   "metadata": {},
   "outputs": [],
   "source": [
    "datagen = ImageDataGenerator(\n",
    "    rescale=1./255,  # rescale pixel values to [0, 1]\n",
    "    horizontal_flip=True  # augment with horizontal flip\n",
    ")"
   ]
  },
  {
   "cell_type": "code",
   "execution_count": 13,
   "id": "35b75750",
   "metadata": {},
   "outputs": [
    {
     "name": "stdout",
     "output_type": "stream",
     "text": [
      "Found 6 images belonging to 3 classes.\n"
     ]
    }
   ],
   "source": [
    "train_generator = datagen.flow_from_directory(\n",
    "    train_dir,\n",
    "    target_size=(224, 224),  # resize images to (224, 224) as required by ResNet-50\n",
    "    batch_size=32,\n",
    "    class_mode='categorical'  # set to 'categorical' for multi-class classification\n",
    ")"
   ]
  },
  {
   "cell_type": "code",
   "execution_count": 15,
   "id": "92044509",
   "metadata": {},
   "outputs": [
    {
     "data": {
      "text/plain": [
       "{'.ipynb_checkpoints': 0, 'pizza': 1, 'shawarma': 2}"
      ]
     },
     "execution_count": 15,
     "metadata": {},
     "output_type": "execute_result"
    }
   ],
   "source": [
    "train_generator.class_indices"
   ]
  },
  {
   "cell_type": "code",
   "execution_count": 21,
   "id": "fd275133",
   "metadata": {},
   "outputs": [],
   "source": [
    "import tensorflow as tf\n",
    "from tensorflow.keras.applications import ResNet50\n",
    "from tensorflow.keras.models import Model\n",
    "from tensorflow.keras.layers import Dense, GlobalAveragePooling2D\n",
    "from tensorflow.keras.optimizers import Adam\n",
    "from tensorflow.keras.applications.resnet50 import preprocess_input, decode_predictions\n",
    "import numpy as np"
   ]
  },
  {
   "cell_type": "code",
   "execution_count": 22,
   "id": "3a200307",
   "metadata": {},
   "outputs": [],
   "source": [
    "# Load the pretrained ResNet-50 model without the top (fully connected) layer\n",
    "base_model = ResNet50(weights='imagenet', include_top=False, input_shape=(224, 224, 3))\n",
    "\n",
    "# Freeze the base model to prevent its weights from being updated during training\n",
    "base_model.trainable = False\n"
   ]
  },
  {
   "cell_type": "code",
   "execution_count": 23,
   "id": "155be151",
   "metadata": {},
   "outputs": [
    {
     "name": "stdout",
     "output_type": "stream",
     "text": [
      "ImageNet classes:  ['goldfish', 'toilet_tissue', 'sea_urchin', 'hog', 'zebra', 'sorrel', 'guinea_pig', 'beaver', 'marmot', 'fox_squirrel', 'porcupine', 'hamster', 'Angora', 'hare', 'wood_rabbit', 'sea_cucumber', 'starfish', 'warthog', 'lycaenid', 'sulphur_butterfly', 'cabbage_butterfly', 'monarch', 'ringlet', 'admiral', 'damselfly', 'dragonfly', 'lacewing', 'leafhopper', 'cicada', 'mantis', 'cockroach', 'wild_boar', 'hippopotamus', 'cricket', 'ox', 'baboon', 'patas', 'guenon', 'siamang', 'gibbon', 'chimpanzee', 'gorilla', 'orangutan', 'three-toed_sloth', 'armadillo', 'badger', 'skunk', 'otter', 'black-footed_ferret', 'polecat', 'mink', 'weasel', 'llama', 'Arabian_camel', 'gazelle', 'impala', 'hartebeest', 'ibex', 'bighorn', 'ram', 'bison', 'water_buffalo', 'walking_stick', 'grasshopper', 'langur', 'grey_fox', 'kit_fox', 'red_fox', 'hyena', 'African_hunting_dog', 'dhole', 'dingo', 'coyote', 'red_wolf', 'white_wolf', 'timber_wolf', 'Mexican_hairless', 'standard_poodle', 'miniature_poodle', 'toy_poodle', 'Cardigan', 'Pembroke', 'Brabancon_griffon', 'keeshond', 'chow', 'Pomeranian', 'Samoyed', 'Great_Pyrenees', 'Newfoundland', 'Leonberg', 'pug', 'basenji', 'affenpinscher', 'Arctic_fox', 'tabby', 'ant', 'tiger_cat', 'bee', 'fly', 'weevil', 'rhinoceros_beetle', 'dung_beetle', 'leaf_beetle', 'long-horned_beetle', 'ground_beetle', 'ladybug', 'tiger_beetle', 'meerkat', 'mongoose', 'sloth_bear', 'ice_bear', 'American_black_bear', 'brown_bear', 'cheetah', 'tiger', 'lion', 'jaguar', 'snow_leopard', 'leopard', 'lynx', 'cougar', 'Egyptian_cat', 'Siamese_cat', 'Persian_cat', 'macaque', 'colobus', 'Siberian_husky', 'bookcase', 'bullet_train', 'bulletproof_vest', 'buckle', 'bucket', 'broom', 'breastplate', 'breakwater', 'brassiere', 'brass', 'bow_tie', 'bow', 'bottlecap', 'bookshop', 'bonnet', 'proboscis_monkey', 'bolo_tie', 'bobsled', 'boathouse', 'birdhouse', 'binoculars', 'binder', 'bikini', 'bicycle-built-for-two', 'bib', 'bell_cote', 'beer_glass', 'beer_bottle', 'bearskin', 'butcher_shop', 'cab', 'caldron', 'candle', 'church', 'Christmas_stocking', 'china_cabinet', 'chime', 'chiffonier', 'chest', 'chain_saw', 'chain_mail', 'chainlink_fence', 'chain', 'cellular_telephone', 'cello', 'CD_player', 'catamaran', 'castle', 'cassette_player', 'cassette', 'cash_machine', 'car_wheel', 'carton', \"carpenter's_kit\", 'carousel', 'car_mirror', 'cardigan', 'can_opener', 'canoe', 'cannon', 'beaker', 'beacon', 'beach_wagon', 'airship', 'aircraft_carrier', 'acoustic_guitar', 'accordion', 'academic_gown', 'abaya', 'abacus', 'puffer', 'lionfish', 'gar', 'sturgeon', 'anemone_fish', 'rock_beauty', 'coho', 'eel', 'barracouta', 'giant_panda', 'lesser_panda', 'African_elephant', 'Indian_elephant', 'indri', 'Madagascar_cat', 'squirrel_monkey', 'spider_monkey', 'titi', 'howler_monkey', 'capuchin', 'marmoset', 'airliner', 'altar', 'bathtub', 'ambulance', 'bath_towel', 'bathing_cap', 'bassoon', 'bassinet', 'basketball', 'baseball', 'barrow', 'barrel', 'barometer', 'barn', 'barbershop', 'barber_chair', 'barbell', 'bannister', 'banjo', 'Band_Aid', 'ballpoint', 'balloon', 'balance_beam', 'bakery', 'backpack', 'assault_rifle', 'ashcan', 'apron', 'apiary', 'analog_clock', 'amphibian', 'dalmatian', 'malamute', 'ear', 'tick', 'coucal', 'lorikeet', 'sulphur-crested_cockatoo', 'macaw', 'African_grey', 'partridge', 'quail', 'peacock', 'prairie_chicken', 'ruffed_grouse', 'ptarmigan', 'black_grouse', 'centipede', 'wolf_spider', 'crayfish', 'tarantula', 'black_widow', 'garden_spider', 'barn_spider', 'black_and_gold_garden_spider', 'scorpion', 'harvestman', 'trilobite', 'sidewinder', 'diamondback', 'horned_viper', 'sea_snake', 'green_mamba', 'bee_eater', 'hornbill', 'hummingbird', 'jacamar', 'American_lobster', 'king_crab', 'fiddler_crab', 'rock_crab', 'Dungeness_crab', 'chambered_nautilus', 'chiton', 'sea_slug', 'slug', 'snail', 'conch', 'nematode', 'flatworm', 'brain_coral', 'sea_anemone', 'jellyfish', 'wombat', 'koala', 'wallaby', 'platypus', 'echidna', 'tusker', 'black_swan', 'goose', 'red-breasted_merganser', 'drake', 'toucan', 'Indian_cobra', 'rock_python', 'boa_constrictor', 'bullfrog', 'spotted_salamander', 'eft', 'common_newt', 'European_fire_salamander', 'great_grey_owl', 'vulture', 'bald_eagle', 'kite', 'water_ouzel', 'chickadee', 'magpie', 'jay', 'bulbul', 'robin', 'indigo_bunting', 'junco', 'house_finch', 'goldfinch', 'brambling', 'ostrich', 'hen', 'cock', 'stingray', 'electric_ray', 'hammerhead', 'tiger_shark', 'great_white_shark', 'axolotl', 'tree_frog', 'night_snake', 'tailed_frog', 'vine_snake', 'water_snake', 'garter_snake', 'king_snake', 'green_snake', 'hognose_snake', 'ringneck_snake', 'thunder_snake', 'triceratops', 'American_alligator', 'African_crocodile', 'Komodo_dragon', 'African_chameleon', 'green_lizard', 'Gila_monster', 'alligator_lizard', 'frilled_lizard', 'agama', 'whiptail', 'American_chameleon', 'common_iguana', 'banded_gecko', 'box_turtle', 'terrapin', 'mud_turtle', 'leatherback_turtle', 'loggerhead', 'spiny_lobster', 'hermit_crab', 'Eskimo_dog', 'West_Highland_white_terrier', 'clumber', 'Brittany_spaniel', 'Gordon_setter', 'Irish_setter', 'English_setter', 'vizsla', 'German_short-haired_pointer', 'Chesapeake_Bay_retriever', 'Labrador_retriever', 'golden_retriever', 'curly-coated_retriever', 'flat-coated_retriever', 'Lhasa', 'soft-coated_wheaten_terrier', 'isopod', 'silky_terrier', 'Tibetan_terrier', 'Scotch_terrier', 'standard_schnauzer', 'giant_schnauzer', 'miniature_schnauzer', 'Boston_bull', 'Dandie_Dinmont', 'Australian_terrier', 'cairn', 'Airedale', 'Sealyham_terrier', 'Lakeland_terrier', 'English_springer', 'Welsh_springer_spaniel', 'cocker_spaniel', 'Sussex_spaniel', 'Saint_Bernard', 'Great_Dane', 'French_bulldog', 'Tibetan_mastiff', 'bull_mastiff', 'boxer', 'EntleBucher', 'Appenzeller', 'Bernese_mountain_dog', 'Greater_Swiss_Mountain_dog', 'miniature_pinscher', 'Doberman', 'German_shepherd', 'Rottweiler', 'Bouvier_des_Flandres', 'Border_collie', 'collie', 'Shetland_sheepdog', 'Old_English_sheepdog', 'komondor', 'kelpie', 'briard', 'malinois', 'groenendael', 'schipperke', 'kuvasz', 'Irish_water_spaniel', 'wire-haired_fox_terrier', 'Yorkshire_terrier', 'Norwich_terrier', 'Shih-Tzu', 'Maltese_dog', 'Japanese_spaniel', 'Chihuahua', 'sea_lion', 'dugong', 'killer_whale', 'grey_whale', 'albatross', 'king_penguin', 'pelican', 'oystercatcher', 'dowitcher', 'redshank', 'red-backed_sandpiper', 'ruddy_turnstone', 'bustard', 'American_coot', 'European_gallinule', 'limpkin', 'crane', 'bittern', 'American_egret', 'little_blue_heron', 'flamingo', 'spoonbill', 'black_stork', 'white_stork', 'Pekinese', 'Blenheim_spaniel', 'Norfolk_terrier', 'papillon', 'Irish_terrier', 'Kerry_blue_terrier', 'Border_terrier', 'Bedlington_terrier', 'American_Staffordshire_terrier', 'Staffordshire_bullterrier', 'Weimaraner', 'Scottish_deerhound', 'Saluki', 'otterhound', 'Norwegian_elkhound', 'Ibizan_hound', 'whippet', 'Italian_greyhound', 'Irish_wolfhound', 'borzoi', 'redbone', 'English_foxhound', 'Walker_hound', 'black-and-tan_coonhound', 'bluetick', 'bloodhound', 'beagle', 'basset', 'Afghan_hound', 'Rhodesian_ridgeback', 'toy_terrier', 'cinema', 'cleaver', 'cliff_dwelling', 'strainer', 'sweatshirt', 'swab', 'suspension_bridge', 'sunscreen', 'sunglasses', 'sunglass', 'sundial', 'suit', 'submarine', 'stupa', 'studio_couch', 'stretcher', 'streetcar', 'stove', 'trolleybus', 'stopwatch', 'stone_wall', 'stole', 'stethoscope', 'steel_drum', 'steel_arch_bridge', 'steam_locomotive', 'stage', 'spotlight', 'sports_car', 'spindle', 'spider_web', 'speedboat', 'swimming_trunks', 'swing', 'switch', 'syringe', 'tripod', 'trimaran', 'tricycle', 'trench_coat', 'tray', 'trailer_truck', 'tractor', 'toyshop', 'tow_truck', 'totem_pole', 'torch', 'toilet_seat', 'tobacco_shop', 'toaster', 'tile_roof', 'throne', 'thresher', 'thimble', 'theater_curtain', 'thatch', 'tennis_ball', 'television', 'teddy', 'teapot', 'tape_player', 'tank', 'table_lamp', 'spatula', 'space_shuttle', 'space_heater', 'schooner', 'scale', 'scabbard', 'sax', 'sarong', 'sandal', 'saltshaker', 'safety_pin', 'safe', 'running_shoe', 'rule', 'rugby_ball', 'rubber_eraser', 'rotisserie', 'rocking_chair', 'rifle', 'revolver', 'restaurant', 'remote_control', 'refrigerator', 'reflex_camera', 'reel', 'recreational_vehicle', 'rain_barrel', 'radio_telescope', 'radio', 'radiator', 'racket', 'school_bus', 'scoreboard', 'space_bar', 'screen', 'soup_bowl', 'sombrero', 'solar_dish', 'sock', 'soccer_ball', 'soap_dispenser', 'snowplow', 'snowmobile', 'snorkel', 'slot', 'sliding_door', 'slide_rule', 'sleeping_bag', 'ski_mask', 'ski', 'shower_curtain', 'shower_cap', 'shovel', 'shopping_cart', 'shopping_basket', 'shoji', 'shoe_shop', 'shield', 'sewing_machine', 'seat_belt', 'screwdriver', 'screw', 'triumphal_arch', 'trombone', 'quilt', 'pineapple', 'red_wine', 'burrito', 'potpie', 'pizza', 'meat_loaf', 'dough', 'chocolate_sauce', 'carbonara', 'hay', 'pomegranate', 'custard_apple', 'jackfruit', 'banana', 'fig', 'tub', 'lemon', 'orange', 'strawberry', 'Granny_Smith', 'mushroom', 'cardoon', 'bell_pepper', 'artichoke', 'cucumber', 'butternut_squash', 'acorn_squash', 'spaghetti_squash', 'zucchini', 'espresso', 'cup', 'eggnog', 'alp', 'bolete', 'hen-of-the-woods', 'earthstar', 'stinkhorn', 'gyromitra', 'agaric', 'coral_fungus', 'buckeye', 'hip', 'acorn', 'corn', \"yellow_lady's_slipper\", 'daisy', 'rapeseed', 'scuba_diver', 'groom', 'ballplayer', 'volcano', 'valley', 'seashore', 'sandbar', 'promontory', 'lakeside', 'geyser', 'coral_reef', 'cliff', 'bubble', 'cauliflower', 'broccoli', 'head_cabbage', 'window_shade', 'wig', 'whistle', 'whiskey_jug', 'water_tower', 'water_jug', 'water_bottle', 'washer', 'washbasin', 'warplane', 'wardrobe', 'wallet', 'wall_clock', 'waffle_iron', 'volleyball', 'violin', 'viaduct', 'vestment', 'vending_machine', 'velvet', 'vault', 'vase', 'vacuum', 'upright', 'unicycle', 'umbrella', 'typewriter_keyboard', 'turnstile', 'window_screen', 'Windsor_tie', 'mashed_potato', 'wine_bottle', 'hotdog', 'cheeseburger', 'pretzel', 'bagel', 'French_loaf', 'ice_lolly', 'ice_cream', 'trifle', 'hot_pot', 'consomme', 'guacamole', 'plate', 'menu', 'book_jacket', 'traffic_light', 'street_sign', 'crossword_puzzle', 'comic_book', 'web_site', 'yurt', 'yawl', 'wreck', 'worm_fence', 'wool', 'wooden_spoon', 'wok', 'wing', 'racer', 'quill', 'cloak', 'gown', 'handkerchief', 'hand-held_computer', 'hand_blower', 'hamper', 'hammer', 'half_track', 'hair_spray', 'hair_slide', 'guillotine', 'grocery_store', 'grille', 'greenhouse', 'grand_piano', 'gong', 'library', 'gondola', 'golfcart', 'golf_ball', 'go-kart', 'goblet', 'gas_pump', 'gasmask', 'garbage_truck', 'fur_coat', 'frying_pan', 'French_horn', 'freight_car', 'four-poster', 'hard_disc', 'harmonica', 'harp', 'harvester', 'lens_cap', 'lawn_mower', 'laptop', 'lampshade', 'ladle', 'lab_coat', 'knot', 'knee_pad', 'kimono', 'joystick', 'jinrikisha', 'jigsaw_puzzle', 'jersey', 'jeep', 'jean', \"jack-o'-lantern\", 'iron', 'iPod', 'hourglass', 'horse_cart', 'horizontal_bar', 'hoopskirt', 'hook', 'honeycomb', 'home_theater', 'holster', 'hatchet', 'fountain_pen', 'fountain', 'forklift', 'digital_clock', 'dial_telephone', 'desktop_computer', 'desk', 'dam', 'cuirass', 'crutch', 'croquet_ball', 'Crock_Pot', 'crib', 'crate', 'crash_helmet', 'crane', 'cradle', 'cowboy_hat', 'cowboy_boot', 'cornet', 'corkscrew', 'convertible', 'container_ship', 'confectionery', 'computer_keyboard', 'combination_lock', 'coil', 'coffeepot', 'coffee_mug', 'cocktail_shaker', 'clog', 'diaper', 'digital_watch', 'football_helmet', 'dining_table', 'folding_chair', 'flute', 'flagpole', 'fire_screen', 'fire_engine', 'fireboat', 'file', 'feather_boa', 'face_powder', 'espresso_maker', 'envelope', 'entertainment_center', 'electric_locomotive', 'electric_guitar', 'electric_fan', 'Dutch_oven', 'dumbbell', 'drumstick', 'drum', 'drilling_platform', 'doormat', 'dome', 'dogsled', 'dock', 'disk_brake', 'dishwasher', 'dishrag', 'letter_opener', 'lifeboat', 'purse', 'park_bench', 'picket_fence', 'pickelhaube', 'pick', 'photocopier', 'Petri_dish', 'perfume', 'pencil_sharpener', 'pencil_box', 'pedestal', 'pay-phone', 'patio', 'passenger_car', 'parking_meter', 'parallel_bars', 'lighter', 'parachute', 'paper_towel', 'panpipe', 'palace', 'pajama', 'paintbrush', 'padlock', 'paddlewheel', 'paddle', 'packet', 'oxygen_mask', 'oxcart', 'overskirt', 'pickup', 'pier', 'piggy_bank', 'pill_bottle', 'punching_bag', 'puck', 'projector', 'projectile', 'prison', 'printer', 'prayer_rug', 'power_drill', \"potter's_wheel\", 'pot', 'pop_bottle', 'pool_table', 'poncho', 'police_van', 'pole', 'Polaroid_camera', 'plunger', 'plow', 'plate_rack', 'plastic_bag', 'planetarium', 'plane', 'pitcher', 'pirate', 'pinwheel', 'ping-pong_ball', 'pillow', 'oscilloscope', 'organ', 'oil_filter', 'miniskirt', 'milk_can', 'military_uniform', 'microwave', 'microphone', 'megalith', 'medicine_chest', 'measuring_cup', 'maze', 'maypole', 'matchstick', 'mask', 'marimba', 'maraca', 'manhole_cover', 'maillot', 'maillot', 'mailbox', 'mailbag', 'magnetic_compass', 'lumbermill', 'loupe', 'loudspeaker', 'lotion', 'Loafer', 'lipstick', 'liner', 'limousine', 'minibus', 'minivan', 'odometer', 'missile', 'ocarina', 'oboe', 'obelisk', 'notebook', 'nipple', 'necklace', 'neck_brace', 'nail', 'muzzle', 'moving_van', 'mousetrap', 'mouse', 'mountain_tent', 'mountain_bike', 'motor_scooter', 'mosquito_net', 'mosque', 'mortarboard', 'mortar', 'moped', 'monitor', 'monastery', 'modem', 'Model_T', 'mobile_home', 'mixing_bowl', 'mitten', 'tench']\n"
     ]
    }
   ],
   "source": [
    "class_labels = decode_predictions(np.eye(1, 1000, 1), top=1000)[0]\n",
    "class_labels = [label[1] for label in class_labels]\n",
    "print(\"ImageNet classes: \", class_labels)"
   ]
  },
  {
   "cell_type": "code",
   "execution_count": 24,
   "id": "e7125c54",
   "metadata": {},
   "outputs": [],
   "source": [
    "# Number of classes in your dataset, including pizza, shawarma, and ImageNet classes\n",
    "num_classes = 3\n",
    "# Add custom output layer\n",
    "x = base_model.output\n",
    "x = GlobalAveragePooling2D()(x)\n",
    "x = Dense(256, activation='relu')(x)\n",
    "predictions = Dense(num_classes, activation='softmax')(x)"
   ]
  },
  {
   "cell_type": "code",
   "execution_count": 25,
   "id": "5c5ac75e",
   "metadata": {},
   "outputs": [],
   "source": [
    "# Create final model\n",
    "model = Model(inputs=base_model.input, outputs=predictions)\n",
    "\n",
    "# Freeze pre-trained layers\n",
    "for layer in base_model.layers:\n",
    "    layer.trainable = False"
   ]
  },
  {
   "cell_type": "code",
   "execution_count": 27,
   "id": "4113c50a",
   "metadata": {},
   "outputs": [],
   "source": [
    "model.compile(optimizer=Adam(learning_rate=0.001), loss='categorical_crossentropy', metrics=['accuracy'])"
   ]
  },
  {
   "cell_type": "code",
   "execution_count": 28,
   "id": "e093c282",
   "metadata": {},
   "outputs": [
    {
     "name": "stderr",
     "output_type": "stream",
     "text": [
      "/tmp/ipykernel_39734/966224173.py:1: UserWarning: `Model.fit_generator` is deprecated and will be removed in a future version. Please use `Model.fit`, which supports generators.\n",
      "  model.fit_generator(\n",
      "2023-04-22 16:04:47.352272: I tensorflow/core/common_runtime/executor.cc:1197] [/device:CPU:0] (DEBUG INFO) Executor start aborting (this does not indicate an error and you can ignore this message): INVALID_ARGUMENT: You must feed a value for placeholder tensor 'Placeholder/_0' with dtype int32\n",
      "\t [[{{node Placeholder/_0}}]]\n"
     ]
    },
    {
     "name": "stdout",
     "output_type": "stream",
     "text": [
      "Epoch 1/10\n",
      "1/1 [==============================] - 4s 4s/step - loss: 2.2082 - accuracy: 0.0000e+00\n",
      "Epoch 2/10\n",
      "1/1 [==============================] - 0s 373ms/step - loss: 0.8264 - accuracy: 0.5000\n",
      "Epoch 3/10\n",
      "1/1 [==============================] - 0s 352ms/step - loss: 0.6269 - accuracy: 0.5000\n",
      "Epoch 4/10\n",
      "1/1 [==============================] - 0s 335ms/step - loss: 0.5784 - accuracy: 0.5000\n",
      "Epoch 5/10\n",
      "1/1 [==============================] - 0s 384ms/step - loss: 0.5362 - accuracy: 1.0000\n",
      "Epoch 6/10\n",
      "1/1 [==============================] - 0s 389ms/step - loss: 0.5029 - accuracy: 0.6667\n",
      "Epoch 7/10\n",
      "1/1 [==============================] - 0s 382ms/step - loss: 0.4795 - accuracy: 0.6667\n",
      "Epoch 8/10\n",
      "1/1 [==============================] - 0s 386ms/step - loss: 0.4540 - accuracy: 1.0000\n",
      "Epoch 9/10\n",
      "1/1 [==============================] - 0s 376ms/step - loss: 0.4359 - accuracy: 1.0000\n",
      "Epoch 10/10\n",
      "1/1 [==============================] - 0s 365ms/step - loss: 0.4122 - accuracy: 1.0000\n"
     ]
    },
    {
     "data": {
      "text/plain": [
       "<keras.callbacks.History at 0x7fabfb8fd490>"
      ]
     },
     "execution_count": 28,
     "metadata": {},
     "output_type": "execute_result"
    }
   ],
   "source": [
    "model.fit_generator(\n",
    "train_generator,\n",
    "steps_per_epoch=len(train_generator),\n",
    "epochs=10,\n",
    "validation_data=None) #"
   ]
  },
  {
   "cell_type": "code",
   "execution_count": 42,
   "id": "c79e8787",
   "metadata": {},
   "outputs": [
    {
     "name": "stdout",
     "output_type": "stream",
     "text": [
      "1/1 [==============================] - 0s 106ms/step\n",
      "Predicted Class:  Probability: 0.99\n"
     ]
    }
   ],
   "source": [
    "\n",
    "\n",
    "# Load a test image\n",
    "image_path = 'train/shawarma/shawarma_1.png'\n",
    "from tensorflow.keras.preprocessing.image import load_img, img_to_array\n",
    "from tensorflow.keras.applications.resnet50 import preprocess_input\n",
    "\n",
    "\n",
    "image = load_img(image_path, target_size=(224, 224))\n",
    "\n",
    "# Convert the image to a numpy array\n",
    "image_array = img_to_array(image)\n",
    "\n",
    "# Preprocess the image\n",
    "image_array = preprocess_input(image_array)\n",
    "image_array = image_array.reshape((1,) + image_array.shape)\n",
    "\n",
    "# Make prediction\n",
    "prediction = model.predict(image_array)\n",
    "\n",
    "# Get the class label with highest probability\n",
    "class_index = prediction.argmax()\n",
    "# class_label = class_names[class_index]  # assuming class_names is a list of class labels\n",
    "\n",
    "# Get the probability of the predicted class\n",
    "probability = prediction[0, 1]\n",
    "\n",
    "# Print the predicted class label and probability\n",
    "print(f'Predicted Class:  Probability: {probability:.2f}')\n",
    "\n"
   ]
  },
  {
   "cell_type": "code",
   "execution_count": null,
   "id": "51e4d3db",
   "metadata": {},
   "outputs": [],
   "source": []
  }
 ],
 "metadata": {
  "kernelspec": {
   "display_name": "Python 3 (ipykernel)",
   "language": "python",
   "name": "python3"
  },
  "language_info": {
   "codemirror_mode": {
    "name": "ipython",
    "version": 3
   },
   "file_extension": ".py",
   "mimetype": "text/x-python",
   "name": "python",
   "nbconvert_exporter": "python",
   "pygments_lexer": "ipython3",
   "version": "3.9.13"
  }
 },
 "nbformat": 4,
 "nbformat_minor": 5
}
